{
 "cells": [
  {
   "cell_type": "code",
   "execution_count": 6,
   "id": "99bbdfdd",
   "metadata": {},
   "outputs": [],
   "source": [
    "import pandas as pd\n",
    "import numpy as np\n",
    "import nltk\n",
    "from nltk.corpus import stopwords\n",
    "from nltk.tokenize import word_tokenize\n",
    "from nltk.stem import WordNetLemmatizer\n",
    "import re\n",
    "import seaborn as sns\n",
    "from sklearn.feature_extraction.text import TfidfVectorizer,CountVectorizer\n",
    "from sklearn.model_selection import train_test_split, cross_val_score\n",
    "\n",
    "from sklearn.linear_model import LogisticRegression\n",
    "from sklearn.naive_bayes import MultinomialNB,GaussianNB,BernoulliNB\n",
    "from sklearn.svm import SVC\n",
    "from sklearn.tree import DecisionTreeClassifier\n",
    "from sklearn.ensemble import RandomForestClassifier\n",
    "from sklearn.metrics import precision_score, recall_score, f1_score, accuracy_score,confusion_matrix"
   ]
  },
  {
   "cell_type": "code",
   "execution_count": 7,
   "id": "f5364768",
   "metadata": {},
   "outputs": [],
   "source": [
    "import matplotlib.pyplot as plt"
   ]
  },
  {
   "cell_type": "code",
   "execution_count": 40,
   "id": "cd585bc5",
   "metadata": {},
   "outputs": [
    {
     "name": "stderr",
     "output_type": "stream",
     "text": [
      "[nltk_data] Downloading package punkt to C:\\Users\\Hamza\n",
      "[nltk_data]     Computer\\AppData\\Roaming\\nltk_data...\n",
      "[nltk_data]   Package punkt is already up-to-date!\n",
      "[nltk_data] Downloading package stopwords to C:\\Users\\Hamza\n",
      "[nltk_data]     Computer\\AppData\\Roaming\\nltk_data...\n",
      "[nltk_data]   Package stopwords is already up-to-date!\n",
      "[nltk_data] Downloading package wordnet to C:\\Users\\Hamza\n",
      "[nltk_data]     Computer\\AppData\\Roaming\\nltk_data...\n",
      "[nltk_data]   Package wordnet is already up-to-date!\n",
      "[nltk_data] Downloading package omw-1.4 to C:\\Users\\Hamza\n",
      "[nltk_data]     Computer\\AppData\\Roaming\\nltk_data...\n",
      "[nltk_data]   Package omw-1.4 is already up-to-date!\n"
     ]
    },
    {
     "data": {
      "text/plain": [
       "True"
      ]
     },
     "execution_count": 40,
     "metadata": {},
     "output_type": "execute_result"
    }
   ],
   "source": [
    "nltk.download('punkt')\n",
    "nltk.download('stopwords')\n",
    "nltk.download('wordnet')\n",
    "nltk.download('omw-1.4')\n"
   ]
  },
  {
   "cell_type": "markdown",
   "id": "63a78e49",
   "metadata": {},
   "source": [
    "# 1: Getting the dataset."
   ]
  },
  {
   "cell_type": "code",
   "execution_count": 8,
   "id": "e82d88b6",
   "metadata": {
    "scrolled": true
   },
   "outputs": [
    {
     "data": {
      "text/plain": [
       "v1               0\n",
       "v2               0\n",
       "Unnamed: 2    5522\n",
       "Unnamed: 3    5560\n",
       "Unnamed: 4    5566\n",
       "dtype: int64"
      ]
     },
     "execution_count": 8,
     "metadata": {},
     "output_type": "execute_result"
    }
   ],
   "source": [
    "#used to read CSV files\n",
    "df = pd.read_csv(\"spam.csv\", encoding='ISO-8859-1')\n",
    "df.isna().sum()\n",
    "\n",
    "\n"
   ]
  },
  {
   "cell_type": "markdown",
   "id": "48d4178d",
   "metadata": {},
   "source": [
    "# 2: Removing unnecessary columns"
   ]
  },
  {
   "cell_type": "code",
   "execution_count": 9,
   "id": "b48c6d48",
   "metadata": {},
   "outputs": [
    {
     "data": {
      "text/html": [
       "<div>\n",
       "<style scoped>\n",
       "    .dataframe tbody tr th:only-of-type {\n",
       "        vertical-align: middle;\n",
       "    }\n",
       "\n",
       "    .dataframe tbody tr th {\n",
       "        vertical-align: top;\n",
       "    }\n",
       "\n",
       "    .dataframe thead th {\n",
       "        text-align: right;\n",
       "    }\n",
       "</style>\n",
       "<table border=\"1\" class=\"dataframe\">\n",
       "  <thead>\n",
       "    <tr style=\"text-align: right;\">\n",
       "      <th></th>\n",
       "      <th>Unnamed: 2</th>\n",
       "      <th>Unnamed: 3</th>\n",
       "      <th>Unnamed: 4</th>\n",
       "    </tr>\n",
       "  </thead>\n",
       "  <tbody>\n",
       "    <tr>\n",
       "      <th>0</th>\n",
       "      <td>NaN</td>\n",
       "      <td>NaN</td>\n",
       "      <td>NaN</td>\n",
       "    </tr>\n",
       "    <tr>\n",
       "      <th>1</th>\n",
       "      <td>NaN</td>\n",
       "      <td>NaN</td>\n",
       "      <td>NaN</td>\n",
       "    </tr>\n",
       "    <tr>\n",
       "      <th>2</th>\n",
       "      <td>NaN</td>\n",
       "      <td>NaN</td>\n",
       "      <td>NaN</td>\n",
       "    </tr>\n",
       "    <tr>\n",
       "      <th>3</th>\n",
       "      <td>NaN</td>\n",
       "      <td>NaN</td>\n",
       "      <td>NaN</td>\n",
       "    </tr>\n",
       "    <tr>\n",
       "      <th>4</th>\n",
       "      <td>NaN</td>\n",
       "      <td>NaN</td>\n",
       "      <td>NaN</td>\n",
       "    </tr>\n",
       "    <tr>\n",
       "      <th>...</th>\n",
       "      <td>...</td>\n",
       "      <td>...</td>\n",
       "      <td>...</td>\n",
       "    </tr>\n",
       "    <tr>\n",
       "      <th>5567</th>\n",
       "      <td>NaN</td>\n",
       "      <td>NaN</td>\n",
       "      <td>NaN</td>\n",
       "    </tr>\n",
       "    <tr>\n",
       "      <th>5568</th>\n",
       "      <td>NaN</td>\n",
       "      <td>NaN</td>\n",
       "      <td>NaN</td>\n",
       "    </tr>\n",
       "    <tr>\n",
       "      <th>5569</th>\n",
       "      <td>NaN</td>\n",
       "      <td>NaN</td>\n",
       "      <td>NaN</td>\n",
       "    </tr>\n",
       "    <tr>\n",
       "      <th>5570</th>\n",
       "      <td>NaN</td>\n",
       "      <td>NaN</td>\n",
       "      <td>NaN</td>\n",
       "    </tr>\n",
       "    <tr>\n",
       "      <th>5571</th>\n",
       "      <td>NaN</td>\n",
       "      <td>NaN</td>\n",
       "      <td>NaN</td>\n",
       "    </tr>\n",
       "  </tbody>\n",
       "</table>\n",
       "<p>5572 rows × 3 columns</p>\n",
       "</div>"
      ],
      "text/plain": [
       "     Unnamed: 2 Unnamed: 3 Unnamed: 4\n",
       "0           NaN        NaN        NaN\n",
       "1           NaN        NaN        NaN\n",
       "2           NaN        NaN        NaN\n",
       "3           NaN        NaN        NaN\n",
       "4           NaN        NaN        NaN\n",
       "...         ...        ...        ...\n",
       "5567        NaN        NaN        NaN\n",
       "5568        NaN        NaN        NaN\n",
       "5569        NaN        NaN        NaN\n",
       "5570        NaN        NaN        NaN\n",
       "5571        NaN        NaN        NaN\n",
       "\n",
       "[5572 rows x 3 columns]"
      ]
     },
     "execution_count": 9,
     "metadata": {},
     "output_type": "execute_result"
    }
   ],
   "source": [
    "df[['Unnamed: 2', 'Unnamed: 3', 'Unnamed: 4']]"
   ]
  },
  {
   "cell_type": "code",
   "execution_count": 10,
   "id": "0b0a6bb2",
   "metadata": {},
   "outputs": [
    {
     "data": {
      "text/html": [
       "<div>\n",
       "<style scoped>\n",
       "    .dataframe tbody tr th:only-of-type {\n",
       "        vertical-align: middle;\n",
       "    }\n",
       "\n",
       "    .dataframe tbody tr th {\n",
       "        vertical-align: top;\n",
       "    }\n",
       "\n",
       "    .dataframe thead th {\n",
       "        text-align: right;\n",
       "    }\n",
       "</style>\n",
       "<table border=\"1\" class=\"dataframe\">\n",
       "  <thead>\n",
       "    <tr style=\"text-align: right;\">\n",
       "      <th></th>\n",
       "      <th>v1</th>\n",
       "      <th>v2</th>\n",
       "    </tr>\n",
       "  </thead>\n",
       "  <tbody>\n",
       "    <tr>\n",
       "      <th>0</th>\n",
       "      <td>ham</td>\n",
       "      <td>Go until jurong point, crazy.. Available only ...</td>\n",
       "    </tr>\n",
       "    <tr>\n",
       "      <th>1</th>\n",
       "      <td>ham</td>\n",
       "      <td>Ok lar... Joking wif u oni...</td>\n",
       "    </tr>\n",
       "    <tr>\n",
       "      <th>2</th>\n",
       "      <td>spam</td>\n",
       "      <td>Free entry in 2 a wkly comp to win FA Cup fina...</td>\n",
       "    </tr>\n",
       "    <tr>\n",
       "      <th>3</th>\n",
       "      <td>ham</td>\n",
       "      <td>U dun say so early hor... U c already then say...</td>\n",
       "    </tr>\n",
       "    <tr>\n",
       "      <th>4</th>\n",
       "      <td>ham</td>\n",
       "      <td>Nah I don't think he goes to usf, he lives aro...</td>\n",
       "    </tr>\n",
       "    <tr>\n",
       "      <th>...</th>\n",
       "      <td>...</td>\n",
       "      <td>...</td>\n",
       "    </tr>\n",
       "    <tr>\n",
       "      <th>5567</th>\n",
       "      <td>spam</td>\n",
       "      <td>This is the 2nd time we have tried 2 contact u...</td>\n",
       "    </tr>\n",
       "    <tr>\n",
       "      <th>5568</th>\n",
       "      <td>ham</td>\n",
       "      <td>Will Ì_ b going to esplanade fr home?</td>\n",
       "    </tr>\n",
       "    <tr>\n",
       "      <th>5569</th>\n",
       "      <td>ham</td>\n",
       "      <td>Pity, * was in mood for that. So...any other s...</td>\n",
       "    </tr>\n",
       "    <tr>\n",
       "      <th>5570</th>\n",
       "      <td>ham</td>\n",
       "      <td>The guy did some bitching but I acted like i'd...</td>\n",
       "    </tr>\n",
       "    <tr>\n",
       "      <th>5571</th>\n",
       "      <td>ham</td>\n",
       "      <td>Rofl. Its true to its name</td>\n",
       "    </tr>\n",
       "  </tbody>\n",
       "</table>\n",
       "<p>5572 rows × 2 columns</p>\n",
       "</div>"
      ],
      "text/plain": [
       "        v1                                                 v2\n",
       "0      ham  Go until jurong point, crazy.. Available only ...\n",
       "1      ham                      Ok lar... Joking wif u oni...\n",
       "2     spam  Free entry in 2 a wkly comp to win FA Cup fina...\n",
       "3      ham  U dun say so early hor... U c already then say...\n",
       "4      ham  Nah I don't think he goes to usf, he lives aro...\n",
       "...    ...                                                ...\n",
       "5567  spam  This is the 2nd time we have tried 2 contact u...\n",
       "5568   ham              Will Ì_ b going to esplanade fr home?\n",
       "5569   ham  Pity, * was in mood for that. So...any other s...\n",
       "5570   ham  The guy did some bitching but I acted like i'd...\n",
       "5571   ham                         Rofl. Its true to its name\n",
       "\n",
       "[5572 rows x 2 columns]"
      ]
     },
     "execution_count": 10,
     "metadata": {},
     "output_type": "execute_result"
    }
   ],
   "source": [
    "df=df.drop(columns=['Unnamed: 2', 'Unnamed: 3', 'Unnamed: 4'])\n",
    "df=df[['v1','v2']]\n",
    "df"
   ]
  },
  {
   "cell_type": "code",
   "execution_count": 44,
   "id": "1d84f768",
   "metadata": {},
   "outputs": [],
   "source": [
    "#saving file without unwanted columns.\n",
    "df.to_csv(r'spam2.csv', index=False)\n",
    "#df2=pd.read_csv('spam2.csv')\n",
    "#df2\n"
   ]
  },
  {
   "cell_type": "markdown",
   "id": "2322083f",
   "metadata": {},
   "source": [
    "# 3: Txt normalization "
   ]
  },
  {
   "cell_type": "code",
   "execution_count": 11,
   "id": "0adbf372",
   "metadata": {},
   "outputs": [],
   "source": [
    "#function for cleaning the text with the help of chtgpt and copilot.\n",
    "def clean_text(text):\n",
    "    text = re.sub(r'[^\\w\\s]', '', text)\n",
    "    text = text.lower()\n",
    "    text = re.sub(r'\\d+', '', text)\n",
    "    text = text.strip()\n",
    "    tokens = word_tokenize(text)\n",
    "\n",
    "    stop_words = set(stopwords.words('english'))\n",
    "    stop_words.discard('won')  \n",
    " \n",
    "    tokens = [word for word in tokens if word not in stop_words]\n",
    "\n",
    "    #print(f\"Tokens after stopwords removal: {tokens}\")\n",
    "    \n",
    "\n",
    "    lemmatizer = WordNetLemmatizer()\n",
    "    tokens = [lemmatizer.lemmatize(word) for word in tokens]\n",
    "    \n",
    "    cleaned_text = ' '.join(tokens)\n",
    "    \n",
    "    #print(f\"Original: {text}\")\n",
    "    #print(f\"Lemmatized: {cleaned_text}\")\n",
    "    \n",
    "    return cleaned_text"
   ]
  },
  {
   "cell_type": "code",
   "execution_count": 12,
   "id": "5bc82ace",
   "metadata": {
    "scrolled": true
   },
   "outputs": [
    {
     "name": "stdout",
     "output_type": "stream",
     "text": [
      "                                                  v2  \\\n",
      "0  Go until jurong point, crazy.. Available only ...   \n",
      "1                      Ok lar... Joking wif u oni...   \n",
      "2  Free entry in 2 a wkly comp to win FA Cup fina...   \n",
      "3  U dun say so early hor... U c already then say...   \n",
      "4  Nah I don't think he goes to usf, he lives aro...   \n",
      "\n",
      "                                        cleaned_text  \n",
      "0  go jurong point crazy available bugis n great ...  \n",
      "1                            ok lar joking wif u oni  \n",
      "2  free entry wkly comp win fa cup final tkts st ...  \n",
      "3                u dun say early hor u c already say  \n",
      "4           nah dont think go usf life around though  \n"
     ]
    }
   ],
   "source": [
    "df['cleaned_text'] = df['v2'].apply(clean_text)\n",
    "print(df[['v2', 'cleaned_text']].head())\n",
    "#text=\"i have won the game and i got free call to dubai.\"\n",
    "#cleaned_text2=clean_text(text)\n",
    "#cleaned_text2"
   ]
  },
  {
   "cell_type": "code",
   "execution_count": 13,
   "id": "cdbb7ff2",
   "metadata": {},
   "outputs": [
    {
     "data": {
      "text/html": [
       "<div>\n",
       "<style scoped>\n",
       "    .dataframe tbody tr th:only-of-type {\n",
       "        vertical-align: middle;\n",
       "    }\n",
       "\n",
       "    .dataframe tbody tr th {\n",
       "        vertical-align: top;\n",
       "    }\n",
       "\n",
       "    .dataframe thead th {\n",
       "        text-align: right;\n",
       "    }\n",
       "</style>\n",
       "<table border=\"1\" class=\"dataframe\">\n",
       "  <thead>\n",
       "    <tr style=\"text-align: right;\">\n",
       "      <th></th>\n",
       "      <th>v1</th>\n",
       "      <th>v2</th>\n",
       "      <th>cleaned_text</th>\n",
       "    </tr>\n",
       "  </thead>\n",
       "  <tbody>\n",
       "    <tr>\n",
       "      <th>0</th>\n",
       "      <td>ham</td>\n",
       "      <td>Go until jurong point, crazy.. Available only ...</td>\n",
       "      <td>go jurong point crazy available bugis n great ...</td>\n",
       "    </tr>\n",
       "    <tr>\n",
       "      <th>1</th>\n",
       "      <td>ham</td>\n",
       "      <td>Ok lar... Joking wif u oni...</td>\n",
       "      <td>ok lar joking wif u oni</td>\n",
       "    </tr>\n",
       "    <tr>\n",
       "      <th>2</th>\n",
       "      <td>spam</td>\n",
       "      <td>Free entry in 2 a wkly comp to win FA Cup fina...</td>\n",
       "      <td>free entry wkly comp win fa cup final tkts st ...</td>\n",
       "    </tr>\n",
       "    <tr>\n",
       "      <th>3</th>\n",
       "      <td>ham</td>\n",
       "      <td>U dun say so early hor... U c already then say...</td>\n",
       "      <td>u dun say early hor u c already say</td>\n",
       "    </tr>\n",
       "    <tr>\n",
       "      <th>4</th>\n",
       "      <td>ham</td>\n",
       "      <td>Nah I don't think he goes to usf, he lives aro...</td>\n",
       "      <td>nah dont think go usf life around though</td>\n",
       "    </tr>\n",
       "    <tr>\n",
       "      <th>...</th>\n",
       "      <td>...</td>\n",
       "      <td>...</td>\n",
       "      <td>...</td>\n",
       "    </tr>\n",
       "    <tr>\n",
       "      <th>5567</th>\n",
       "      <td>spam</td>\n",
       "      <td>This is the 2nd time we have tried 2 contact u...</td>\n",
       "      <td>nd time tried contact u u won å pound prize cl...</td>\n",
       "    </tr>\n",
       "    <tr>\n",
       "      <th>5568</th>\n",
       "      <td>ham</td>\n",
       "      <td>Will Ì_ b going to esplanade fr home?</td>\n",
       "      <td>ì_ b going esplanade fr home</td>\n",
       "    </tr>\n",
       "    <tr>\n",
       "      <th>5569</th>\n",
       "      <td>ham</td>\n",
       "      <td>Pity, * was in mood for that. So...any other s...</td>\n",
       "      <td>pity mood soany suggestion</td>\n",
       "    </tr>\n",
       "    <tr>\n",
       "      <th>5570</th>\n",
       "      <td>ham</td>\n",
       "      <td>The guy did some bitching but I acted like i'd...</td>\n",
       "      <td>guy bitching acted like id interested buying s...</td>\n",
       "    </tr>\n",
       "    <tr>\n",
       "      <th>5571</th>\n",
       "      <td>ham</td>\n",
       "      <td>Rofl. Its true to its name</td>\n",
       "      <td>rofl true name</td>\n",
       "    </tr>\n",
       "  </tbody>\n",
       "</table>\n",
       "<p>5572 rows × 3 columns</p>\n",
       "</div>"
      ],
      "text/plain": [
       "        v1                                                 v2  \\\n",
       "0      ham  Go until jurong point, crazy.. Available only ...   \n",
       "1      ham                      Ok lar... Joking wif u oni...   \n",
       "2     spam  Free entry in 2 a wkly comp to win FA Cup fina...   \n",
       "3      ham  U dun say so early hor... U c already then say...   \n",
       "4      ham  Nah I don't think he goes to usf, he lives aro...   \n",
       "...    ...                                                ...   \n",
       "5567  spam  This is the 2nd time we have tried 2 contact u...   \n",
       "5568   ham              Will Ì_ b going to esplanade fr home?   \n",
       "5569   ham  Pity, * was in mood for that. So...any other s...   \n",
       "5570   ham  The guy did some bitching but I acted like i'd...   \n",
       "5571   ham                         Rofl. Its true to its name   \n",
       "\n",
       "                                           cleaned_text  \n",
       "0     go jurong point crazy available bugis n great ...  \n",
       "1                               ok lar joking wif u oni  \n",
       "2     free entry wkly comp win fa cup final tkts st ...  \n",
       "3                   u dun say early hor u c already say  \n",
       "4              nah dont think go usf life around though  \n",
       "...                                                 ...  \n",
       "5567  nd time tried contact u u won å pound prize cl...  \n",
       "5568                       ì_ b going esplanade fr home  \n",
       "5569                         pity mood soany suggestion  \n",
       "5570  guy bitching acted like id interested buying s...  \n",
       "5571                                     rofl true name  \n",
       "\n",
       "[5572 rows x 3 columns]"
      ]
     },
     "execution_count": 13,
     "metadata": {},
     "output_type": "execute_result"
    }
   ],
   "source": [
    "#with these steps text is normalized i.e removed punctuation,empty space, digits ,stopwords like 'the,is ,in ,and' etc. \n",
    "df"
   ]
  },
  {
   "cell_type": "code",
   "execution_count": 18,
   "id": "4b48c607",
   "metadata": {},
   "outputs": [
    {
     "data": {
      "text/plain": [
       "403"
      ]
     },
     "execution_count": 18,
     "metadata": {},
     "output_type": "execute_result"
    }
   ],
   "source": [
    "df.duplicated().sum()"
   ]
  },
  {
   "cell_type": "code",
   "execution_count": 21,
   "id": "567f5d2c",
   "metadata": {},
   "outputs": [],
   "source": [
    "df = df.drop_duplicates(keep='first')"
   ]
  },
  {
   "cell_type": "code",
   "execution_count": 22,
   "id": "76806233",
   "metadata": {},
   "outputs": [],
   "source": [
    "#spam messages\n",
    "spam = []\n",
    "df_spam = df[df['v1']=='spam']['cleaned_text'].tolist()\n",
    "for msg in df_spam:\n",
    "    for word in msg.split():\n",
    "        spam.append(word)\n"
   ]
  },
  {
   "cell_type": "code",
   "execution_count": 23,
   "id": "1bcda2d3",
   "metadata": {},
   "outputs": [
    {
     "data": {
      "text/plain": [
       "9506"
      ]
     },
     "execution_count": 23,
     "metadata": {},
     "output_type": "execute_result"
    }
   ],
   "source": [
    "len(spam)"
   ]
  },
  {
   "cell_type": "code",
   "execution_count": 24,
   "id": "fb85fe61",
   "metadata": {},
   "outputs": [
    {
     "data": {
      "text/html": [
       "<div>\n",
       "<style scoped>\n",
       "    .dataframe tbody tr th:only-of-type {\n",
       "        vertical-align: middle;\n",
       "    }\n",
       "\n",
       "    .dataframe tbody tr th {\n",
       "        vertical-align: top;\n",
       "    }\n",
       "\n",
       "    .dataframe thead th {\n",
       "        text-align: right;\n",
       "    }\n",
       "</style>\n",
       "<table border=\"1\" class=\"dataframe\">\n",
       "  <thead>\n",
       "    <tr style=\"text-align: right;\">\n",
       "      <th></th>\n",
       "      <th>word</th>\n",
       "      <th>count</th>\n",
       "    </tr>\n",
       "  </thead>\n",
       "  <tbody>\n",
       "    <tr>\n",
       "      <th>0</th>\n",
       "      <td>call</td>\n",
       "      <td>316</td>\n",
       "    </tr>\n",
       "    <tr>\n",
       "      <th>1</th>\n",
       "      <td>å</td>\n",
       "      <td>221</td>\n",
       "    </tr>\n",
       "    <tr>\n",
       "      <th>2</th>\n",
       "      <td>free</td>\n",
       "      <td>190</td>\n",
       "    </tr>\n",
       "    <tr>\n",
       "      <th>3</th>\n",
       "      <td>u</td>\n",
       "      <td>137</td>\n",
       "    </tr>\n",
       "    <tr>\n",
       "      <th>4</th>\n",
       "      <td>txt</td>\n",
       "      <td>126</td>\n",
       "    </tr>\n",
       "    <tr>\n",
       "      <th>5</th>\n",
       "      <td>text</td>\n",
       "      <td>121</td>\n",
       "    </tr>\n",
       "    <tr>\n",
       "      <th>6</th>\n",
       "      <td>ur</td>\n",
       "      <td>119</td>\n",
       "    </tr>\n",
       "    <tr>\n",
       "      <th>7</th>\n",
       "      <td>mobile</td>\n",
       "      <td>115</td>\n",
       "    </tr>\n",
       "    <tr>\n",
       "      <th>8</th>\n",
       "      <td>stop</td>\n",
       "      <td>106</td>\n",
       "    </tr>\n",
       "    <tr>\n",
       "      <th>9</th>\n",
       "      <td>claim</td>\n",
       "      <td>98</td>\n",
       "    </tr>\n",
       "    <tr>\n",
       "      <th>10</th>\n",
       "      <td>reply</td>\n",
       "      <td>95</td>\n",
       "    </tr>\n",
       "    <tr>\n",
       "      <th>11</th>\n",
       "      <td>prize</td>\n",
       "      <td>82</td>\n",
       "    </tr>\n",
       "    <tr>\n",
       "      <th>12</th>\n",
       "      <td>get</td>\n",
       "      <td>69</td>\n",
       "    </tr>\n",
       "    <tr>\n",
       "      <th>13</th>\n",
       "      <td>new</td>\n",
       "      <td>64</td>\n",
       "    </tr>\n",
       "    <tr>\n",
       "      <th>14</th>\n",
       "      <td>service</td>\n",
       "      <td>64</td>\n",
       "    </tr>\n",
       "    <tr>\n",
       "      <th>15</th>\n",
       "      <td>p</td>\n",
       "      <td>63</td>\n",
       "    </tr>\n",
       "    <tr>\n",
       "      <th>16</th>\n",
       "      <td>tone</td>\n",
       "      <td>62</td>\n",
       "    </tr>\n",
       "    <tr>\n",
       "      <th>17</th>\n",
       "      <td>won</td>\n",
       "      <td>59</td>\n",
       "    </tr>\n",
       "    <tr>\n",
       "      <th>18</th>\n",
       "      <td>urgent</td>\n",
       "      <td>58</td>\n",
       "    </tr>\n",
       "    <tr>\n",
       "      <th>19</th>\n",
       "      <td>send</td>\n",
       "      <td>57</td>\n",
       "    </tr>\n",
       "    <tr>\n",
       "      <th>20</th>\n",
       "      <td>nokia</td>\n",
       "      <td>57</td>\n",
       "    </tr>\n",
       "    <tr>\n",
       "      <th>21</th>\n",
       "      <td>phone</td>\n",
       "      <td>53</td>\n",
       "    </tr>\n",
       "    <tr>\n",
       "      <th>22</th>\n",
       "      <td>cash</td>\n",
       "      <td>51</td>\n",
       "    </tr>\n",
       "    <tr>\n",
       "      <th>23</th>\n",
       "      <td>contact</td>\n",
       "      <td>51</td>\n",
       "    </tr>\n",
       "    <tr>\n",
       "      <th>24</th>\n",
       "      <td>win</td>\n",
       "      <td>49</td>\n",
       "    </tr>\n",
       "    <tr>\n",
       "      <th>25</th>\n",
       "      <td>week</td>\n",
       "      <td>49</td>\n",
       "    </tr>\n",
       "    <tr>\n",
       "      <th>26</th>\n",
       "      <td>please</td>\n",
       "      <td>49</td>\n",
       "    </tr>\n",
       "    <tr>\n",
       "      <th>27</th>\n",
       "      <td>min</td>\n",
       "      <td>47</td>\n",
       "    </tr>\n",
       "    <tr>\n",
       "      <th>28</th>\n",
       "      <td>tc</td>\n",
       "      <td>44</td>\n",
       "    </tr>\n",
       "    <tr>\n",
       "      <th>29</th>\n",
       "      <td>customer</td>\n",
       "      <td>42</td>\n",
       "    </tr>\n",
       "  </tbody>\n",
       "</table>\n",
       "</div>"
      ],
      "text/plain": [
       "        word  count\n",
       "0       call    316\n",
       "1          å    221\n",
       "2       free    190\n",
       "3          u    137\n",
       "4        txt    126\n",
       "5       text    121\n",
       "6         ur    119\n",
       "7     mobile    115\n",
       "8       stop    106\n",
       "9      claim     98\n",
       "10     reply     95\n",
       "11     prize     82\n",
       "12       get     69\n",
       "13       new     64\n",
       "14   service     64\n",
       "15         p     63\n",
       "16      tone     62\n",
       "17       won     59\n",
       "18    urgent     58\n",
       "19      send     57\n",
       "20     nokia     57\n",
       "21     phone     53\n",
       "22      cash     51\n",
       "23   contact     51\n",
       "24       win     49\n",
       "25      week     49\n",
       "26    please     49\n",
       "27       min     47\n",
       "28        tc     44\n",
       "29  customer     42"
      ]
     },
     "execution_count": 24,
     "metadata": {},
     "output_type": "execute_result"
    }
   ],
   "source": [
    "from collections import Counter\n",
    "dff = pd.DataFrame(Counter(spam).most_common(30))   #most common words use in spam messages/emails\n",
    "dff.columns = ['word','count']\n",
    "dff"
   ]
  },
  {
   "cell_type": "code",
   "execution_count": 25,
   "id": "104e8b7f",
   "metadata": {},
   "outputs": [
    {
     "data": {
      "text/plain": [
       "(array([ 0,  1,  2,  3,  4,  5,  6,  7,  8,  9, 10, 11, 12, 13, 14, 15, 16,\n",
       "        17, 18, 19, 20, 21, 22, 23, 24, 25, 26, 27, 28, 29]),\n",
       " [Text(0, 0, 'call'),\n",
       "  Text(1, 0, 'å'),\n",
       "  Text(2, 0, 'free'),\n",
       "  Text(3, 0, 'u'),\n",
       "  Text(4, 0, 'txt'),\n",
       "  Text(5, 0, 'text'),\n",
       "  Text(6, 0, 'ur'),\n",
       "  Text(7, 0, 'mobile'),\n",
       "  Text(8, 0, 'stop'),\n",
       "  Text(9, 0, 'claim'),\n",
       "  Text(10, 0, 'reply'),\n",
       "  Text(11, 0, 'prize'),\n",
       "  Text(12, 0, 'get'),\n",
       "  Text(13, 0, 'new'),\n",
       "  Text(14, 0, 'service'),\n",
       "  Text(15, 0, 'p'),\n",
       "  Text(16, 0, 'tone'),\n",
       "  Text(17, 0, 'won'),\n",
       "  Text(18, 0, 'urgent'),\n",
       "  Text(19, 0, 'send'),\n",
       "  Text(20, 0, 'nokia'),\n",
       "  Text(21, 0, 'phone'),\n",
       "  Text(22, 0, 'cash'),\n",
       "  Text(23, 0, 'contact'),\n",
       "  Text(24, 0, 'win'),\n",
       "  Text(25, 0, 'week'),\n",
       "  Text(26, 0, 'please'),\n",
       "  Text(27, 0, 'min'),\n",
       "  Text(28, 0, 'tc'),\n",
       "  Text(29, 0, 'customer')])"
      ]
     },
     "execution_count": 25,
     "metadata": {},
     "output_type": "execute_result"
    },
    {
     "data": {
      "image/png": "[encoded data removed]",
      "text/plain": [
       "<Figure size 640x480 with 1 Axes>"
      ]
     },
     "metadata": {},
     "output_type": "display_data"
    }
   ],
   "source": [
    "sns.barplot(x=dff['word'],y=dff['count'])\n",
    "plt.xticks(rotation = 'vertical')"
   ]
  },
  {
   "cell_type": "markdown",
   "id": "aaff8bc7",
   "metadata": {},
   "source": [
    "# 4: Text vectorization "
   ]
  },
  {
   "cell_type": "code",
   "execution_count": 26,
   "id": "10fd203f",
   "metadata": {},
   "outputs": [
    {
     "data": {
      "text/plain": [
       "(5169, 38238)"
      ]
     },
     "execution_count": 26,
     "metadata": {},
     "output_type": "execute_result"
    }
   ],
   "source": [
    "vectorizer=TfidfVectorizer(ngram_range=(1, 2))\n",
    "X=vectorizer.fit_transform(df['cleaned_text']).toarray()\n",
    "X.shape"
   ]
  },
  {
   "cell_type": "code",
   "execution_count": 27,
   "id": "b79af9b4",
   "metadata": {},
   "outputs": [
    {
     "data": {
      "text/plain": [
       "(5169,)"
      ]
     },
     "execution_count": 27,
     "metadata": {},
     "output_type": "execute_result"
    }
   ],
   "source": [
    "y=df[\"v1\"].map({'ham': 0, 'spam': 1})\n",
    "y.shape"
   ]
  },
  {
   "cell_type": "markdown",
   "id": "f4459199",
   "metadata": {},
   "source": [
    "# 6: splitting data into train and test ."
   ]
  },
  {
   "cell_type": "code",
   "execution_count": 28,
   "id": "eac3a0d3",
   "metadata": {},
   "outputs": [],
   "source": [
    "X_train, X_test, y_train, y_test = train_test_split(X, y, test_size=0.2, random_state=42)"
   ]
  },
  {
   "cell_type": "markdown",
   "id": "2ce9ec37",
   "metadata": {},
   "source": [
    "# 7: to avoid Repetitiveness."
   ]
  },
  {
   "cell_type": "code",
   "execution_count": 29,
   "id": "cfc6bef1",
   "metadata": {},
   "outputs": [],
   "source": [
    "def evaluate_model(model, X_train, X_test, y_train, y_test, cv_folds=5):\n",
    "    # Perform cross-validation\n",
    "    cv_scores = cross_val_score(model, X_train, y_train, cv=cv_folds, scoring='accuracy')\n",
    "    print(f\"Cross-Validation Accuracy Scores: {cv_scores}\")\n",
    "    print(f\"Mean Cross-Validation Accuracy: {cv_scores.mean():.4f}\")\n",
    "    print(f\"Standard Deviation of Cross-Validation Accuracy: {cv_scores.std():.4f}\")\n",
    "    \n",
    "   \n",
    "    model.fit(X_train, y_train)\n",
    "    y_pred = model.predict(X_test)\n",
    "    \n",
    "    \n",
    "    accuracy = accuracy_score(y_test, y_pred)\n",
    "    conf_matrix = confusion_matrix(y_test, y_pred)\n",
    "    precision = precision_score(y_test, y_pred)\n",
    "    recall = recall_score(y_test, y_pred)\n",
    "    f1 = f1_score(y_test, y_pred)\n",
    "    \n",
    "    print(f\"Accuracy: {accuracy:.3f}\")\n",
    "    print(f\"Confusion Matrix:\\n{conf_matrix}\")\n",
    "    print(f\"Precision: {precision:.3f}\")\n",
    "    print(f\"Recall: {recall:.3f}\")\n",
    "    print(f\"F1 Score: {f1:.3f}\")\n",
    "    print()"
   ]
  },
  {
   "cell_type": "code",
   "execution_count": 30,
   "id": "3b7f1c6a",
   "metadata": {},
   "outputs": [],
   "source": [
    "def predict_new_text(model, vectorizer, new_text):\n",
    "    cleaned_text = clean_text(new_text)\n",
    "    X_new = vectorizer.transform([cleaned_text])\n",
    "    \n",
    "    if isinstance(X_new, np.ndarray):\n",
    "        X_new_dense = X_new\n",
    "    else:\n",
    "        X_new_dense = X_new.toarray()\n",
    "    \n",
    "    prediction = model.predict(X_new_dense)\n",
    "    return prediction[0]"
   ]
  },
  {
   "cell_type": "markdown",
   "id": "c31f156f",
   "metadata": {},
   "source": [
    "# training and evaluating the models"
   ]
  },
  {
   "cell_type": "code",
   "execution_count": 31,
   "id": "b239b797",
   "metadata": {
    "scrolled": false
   },
   "outputs": [
    {
     "name": "stdout",
     "output_type": "stream",
     "text": [
      "Cross-Validation Accuracy Scores: [0.9165659  0.92623942 0.92503023 0.9165659  0.92140266]\n",
      "Mean Cross-Validation Accuracy: 0.9212\n",
      "Standard Deviation of Cross-Validation Accuracy: 0.0041\n",
      "Accuracy: 0.924\n",
      "Confusion Matrix:\n",
      "[[887   2]\n",
      " [ 77  68]]\n",
      "Precision: 0.971\n",
      "Recall: 0.469\n",
      "F1 Score: 0.633\n",
      "\n"
     ]
    }
   ],
   "source": [
    "lr_model = LogisticRegression()\n",
    "evaluate_model(lr_model, X_train, X_test, y_train, y_test, cv_folds=5)\n",
    "\n"
   ]
  },
  {
   "cell_type": "code",
   "execution_count": 32,
   "id": "85e9297d",
   "metadata": {},
   "outputs": [
    {
     "name": "stdout",
     "output_type": "stream",
     "text": [
      "Cross-Validation Accuracy Scores: [0.94800484 0.94316808 0.94679565 0.94558646 0.94558646]\n",
      "Mean Cross-Validation Accuracy: 0.9458\n",
      "Standard Deviation of Cross-Validation Accuracy: 0.0016\n",
      "Accuracy: 0.952\n",
      "Confusion Matrix:\n",
      "[[889   0]\n",
      " [ 50  95]]\n",
      "Precision: 1.000\n",
      "Recall: 0.655\n",
      "F1 Score: 0.792\n",
      "\n"
     ]
    }
   ],
   "source": [
    "svm_model = SVC()\n",
    "evaluate_model(svm_model, X_train, X_test, y_train, y_test, cv_folds=5)\n"
   ]
  },
  {
   "cell_type": "code",
   "execution_count": 33,
   "id": "e94f3444",
   "metadata": {},
   "outputs": [
    {
     "name": "stdout",
     "output_type": "stream",
     "text": [
      "Cross-Validation Accuracy Scores: [0.88391778 0.89117291 0.89117291 0.89117291 0.8923821 ]\n",
      "Mean Cross-Validation Accuracy: 0.8900\n",
      "Standard Deviation of Cross-Validation Accuracy: 0.0031\n",
      "Accuracy: 0.906\n",
      "Confusion Matrix:\n",
      "[[887   2]\n",
      " [ 95  50]]\n",
      "Precision: 0.962\n",
      "Recall: 0.345\n",
      "F1 Score: 0.508\n",
      "\n"
     ]
    }
   ],
   "source": [
    "bnb_model = BernoulliNB()\n",
    "evaluate_model(bnb_model, X_train, X_test, y_train, y_test, cv_folds=5)"
   ]
  },
  {
   "cell_type": "code",
   "execution_count": 34,
   "id": "5e6b7e7b",
   "metadata": {},
   "outputs": [
    {
     "name": "stdout",
     "output_type": "stream",
     "text": [
      "Cross-Validation Accuracy Scores: [0.93349456 0.93228537 0.93954051 0.92623942 0.92744861]\n",
      "Mean Cross-Validation Accuracy: 0.9318\n",
      "Standard Deviation of Cross-Validation Accuracy: 0.0048\n",
      "Accuracy: 0.942\n",
      "Confusion Matrix:\n",
      "[[889   0]\n",
      " [ 60  85]]\n",
      "Precision: 1.000\n",
      "Recall: 0.586\n",
      "F1 Score: 0.739\n",
      "\n"
     ]
    }
   ],
   "source": [
    "nb_model = MultinomialNB()\n",
    "evaluate_model(nb_model, X_train, X_test, y_train, y_test, cv_folds=5)"
   ]
  },
  {
   "cell_type": "code",
   "execution_count": 35,
   "id": "42034040",
   "metadata": {},
   "outputs": [
    {
     "name": "stdout",
     "output_type": "stream",
     "text": [
      "Cross-Validation Accuracy Scores: [0.96251511 0.93470375 0.95888755 0.95767836 0.95042322]\n",
      "Mean Cross-Validation Accuracy: 0.9528\n",
      "Standard Deviation of Cross-Validation Accuracy: 0.0099\n",
      "Accuracy: 0.936\n",
      "Confusion Matrix:\n",
      "[[859  30]\n",
      " [ 36 109]]\n",
      "Precision: 0.784\n",
      "Recall: 0.752\n",
      "F1 Score: 0.768\n",
      "\n"
     ]
    }
   ],
   "source": [
    "dt_model = DecisionTreeClassifier()\n",
    "evaluate_model(dt_model, X_train, X_test, y_train, y_test, cv_folds=5)"
   ]
  },
  {
   "cell_type": "code",
   "execution_count": 36,
   "id": "a79eeba4",
   "metadata": {},
   "outputs": [
    {
     "name": "stdout",
     "output_type": "stream",
     "text": [
      "Cross-Validation Accuracy Scores: [0.95646917 0.95888755 0.96009674 0.95405079 0.95405079]\n",
      "Mean Cross-Validation Accuracy: 0.9567\n",
      "Standard Deviation of Cross-Validation Accuracy: 0.0025\n",
      "Accuracy: 0.960\n",
      "Confusion Matrix:\n",
      "[[889   0]\n",
      " [ 41 104]]\n",
      "Precision: 1.000\n",
      "Recall: 0.717\n",
      "F1 Score: 0.835\n",
      "\n"
     ]
    }
   ],
   "source": [
    "rf_model = RandomForestClassifier(n_estimators=100, random_state=42)\n",
    "evaluate_model(rf_model, X_train, X_test, y_train, y_test, cv_folds=5)"
   ]
  },
  {
   "cell_type": "markdown",
   "id": "73c4f00d",
   "metadata": {},
   "source": [
    "# New prediction for all models."
   ]
  },
  {
   "cell_type": "code",
   "execution_count": 47,
   "id": "c1c1202e",
   "metadata": {},
   "outputs": [],
   "source": [
    "new_text=\"Hey valued customer, congratulations! You've won a free entry to the FA Cup final. Your ticket is valid for the week. Please reply with 'ok' to confirm or 'txt' for more details. Text 'ratetcs' to apply. Don't miss out on this amazing opportunity! Standard charges may apply. Good luck!\""
   ]
  },
  {
   "cell_type": "code",
   "execution_count": 48,
   "id": "15344261",
   "metadata": {},
   "outputs": [
    {
     "name": "stdout",
     "output_type": "stream",
     "text": [
      "Prediction for new text: 1\n"
     ]
    }
   ],
   "source": [
    "#New prediction here\n",
    "prediction = predict_new_text(lr_model, vectorizer, new_text)\n",
    "print(f\"Prediction for new text: {prediction}\")"
   ]
  },
  {
   "cell_type": "code",
   "execution_count": 49,
   "id": "4e472653",
   "metadata": {},
   "outputs": [
    {
     "name": "stdout",
     "output_type": "stream",
     "text": [
      "Prediction for new text: 1\n"
     ]
    }
   ],
   "source": [
    "#New prediction here\n",
    "prediction = predict_new_text(svm_model, vectorizer, new_text)\n",
    "print(f\"Prediction for new text: {prediction}\")"
   ]
  },
  {
   "cell_type": "code",
   "execution_count": 50,
   "id": "9af86ed3",
   "metadata": {},
   "outputs": [
    {
     "name": "stdout",
     "output_type": "stream",
     "text": [
      "Prediction for new text: 1\n"
     ]
    }
   ],
   "source": [
    "prediction = predict_new_text(bnb_model, vectorizer, new_text)\n",
    "print(f\"Prediction for new text: {prediction}\")"
   ]
  },
  {
   "cell_type": "code",
   "execution_count": 51,
   "id": "02912619",
   "metadata": {},
   "outputs": [
    {
     "name": "stdout",
     "output_type": "stream",
     "text": [
      "Prediction for new text: 0\n"
     ]
    }
   ],
   "source": [
    "# New prediction using \n",
    "prediction = predict_new_text(nb_model, vectorizer, new_text)\n",
    "print(f\"Prediction for new text: {prediction}\")"
   ]
  },
  {
   "cell_type": "code",
   "execution_count": 52,
   "id": "a724388a",
   "metadata": {},
   "outputs": [
    {
     "name": "stdout",
     "output_type": "stream",
     "text": [
      "Prediction for new text: 1\n"
     ]
    }
   ],
   "source": [
    "#New prediction using decision tree\n",
    "prediction = predict_new_text(dt_model, vectorizer, new_text)\n",
    "print(f\"Prediction for new text: {prediction}\")\n"
   ]
  },
  {
   "cell_type": "code",
   "execution_count": 53,
   "id": "f1756e03",
   "metadata": {},
   "outputs": [
    {
     "name": "stdout",
     "output_type": "stream",
     "text": [
      "Prediction for new text: 1\n"
     ]
    }
   ],
   "source": [
    "prediction = predict_new_text(rf_model, vectorizer, new_text)\n",
    "print(f\"Prediction for new text: {prediction}\")"
   ]
  },
  {
   "cell_type": "code",
   "execution_count": 224,
   "id": "fb433c4e",
   "metadata": {},
   "outputs": [],
   "source": [
    "import pickle\n",
    "pickle.dump(vectorizer,open('vectorizer.pkl','wb'))\n",
    "pickle.dump(lr_model, open('logistic_regression_model.pkl', 'wb'))\n",
    "pickle.dump(nb_model, open('naive_bayes_model.pkl', 'wb'))\n",
    "pickle.dump(svm_model, open('svm_model.pkl', 'wb'))\n"
   ]
  },
  {
   "cell_type": "code",
   "execution_count": null,
   "id": "5825237b",
   "metadata": {},
   "outputs": [],
   "source": []
  }
 ],
 "metadata": {
  "kernelspec": {
   "display_name": "Python 3 (ipykernel)",
   "language": "python",
   "name": "python3"
  },
  "language_info": {
   "codemirror_mode": {
    "name": "ipython",
    "version": 3
   },
   "file_extension": ".py",
   "mimetype": "text/x-python",
   "name": "python",
   "nbconvert_exporter": "python",
   "pygments_lexer": "ipython3",
   "version": "3.11.5"
  }
 },
 "nbformat": 4,
 "nbformat_minor": 5
}
